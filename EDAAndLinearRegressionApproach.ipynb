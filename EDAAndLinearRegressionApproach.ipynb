{
 "cells": [
  {
   "cell_type": "markdown",
   "id": "645b13d5-d386-4f0e-8f54-75c269742fce",
   "metadata": {},
   "source": [
    "## NYC Airbnb Price Linear Regression Project\n",
    "\n",
    "##### Notebook by David Shimshoni\n",
    "\n",
    "This project uses the [New York City Airbnb Open Dataset](https://www.kaggle.com/dgomonov/new-york-city-airbnb-open-data) from Kaggle. \n",
    "\n",
    "The structure of this notebook, and inspiration for code, comes from Alexey Grigorev's Machine Learning Bookcamp; specifically, [Chapter 2](https://github.com/alexeygrigorev/mlbookcamp-code/blob/master/chapter-02-car-price/02-carprice.ipynb)"
   ]
  },
  {
   "cell_type": "markdown",
   "id": "dd4bf2af-8711-4c2e-84c0-94499f28ae0d",
   "metadata": {},
   "source": [
    "### Loading in the data"
   ]
  },
  {
   "cell_type": "code",
   "execution_count": 1,
   "id": "34c546dc-7c1b-476a-bbf5-a1f3c365cee9",
   "metadata": {},
   "outputs": [],
   "source": [
    "import numpy as np\n",
    "import pandas as pd \n",
    "\n",
    "import matplotlib.pyplot as plt\n",
    "import seaborn as sns\n",
    "%matplotlib inline"
   ]
  },
  {
   "cell_type": "code",
   "execution_count": 2,
   "id": "9ba72813-e027-4eb5-bff0-4882daf19d21",
   "metadata": {},
   "outputs": [],
   "source": [
    "## Reading in data\n",
    "\n",
    "df = pd.read_csv(\"data/AB_NYC_2019.csv\")"
   ]
  },
  {
   "cell_type": "markdown",
   "id": "9198023f-d66b-4ff8-b183-2ffa514e71ce",
   "metadata": {},
   "source": [
    "### Basic Exploratory Data Analysis"
   ]
  },
  {
   "cell_type": "code",
   "execution_count": 3,
   "id": "1a43c7a9-4a52-47e0-a506-b585e32aeb8e",
   "metadata": {},
   "outputs": [
    {
     "data": {
      "text/plain": [
       "48895"
      ]
     },
     "execution_count": 3,
     "metadata": {},
     "output_type": "execute_result"
    }
   ],
   "source": [
    "len(df) ## number of rows"
   ]
  },
  {
   "cell_type": "code",
   "execution_count": 4,
   "id": "c3a7b9a6-c26a-49db-8b11-d215a5f97104",
   "metadata": {},
   "outputs": [
    {
     "data": {
      "text/html": [
       "<div>\n",
       "<style scoped>\n",
       "    .dataframe tbody tr th:only-of-type {\n",
       "        vertical-align: middle;\n",
       "    }\n",
       "\n",
       "    .dataframe tbody tr th {\n",
       "        vertical-align: top;\n",
       "    }\n",
       "\n",
       "    .dataframe thead th {\n",
       "        text-align: right;\n",
       "    }\n",
       "</style>\n",
       "<table border=\"1\" class=\"dataframe\">\n",
       "  <thead>\n",
       "    <tr style=\"text-align: right;\">\n",
       "      <th></th>\n",
       "      <th>id</th>\n",
       "      <th>name</th>\n",
       "      <th>host_id</th>\n",
       "      <th>host_name</th>\n",
       "      <th>neighbourhood_group</th>\n",
       "      <th>neighbourhood</th>\n",
       "      <th>latitude</th>\n",
       "      <th>longitude</th>\n",
       "      <th>room_type</th>\n",
       "      <th>price</th>\n",
       "      <th>minimum_nights</th>\n",
       "      <th>number_of_reviews</th>\n",
       "      <th>last_review</th>\n",
       "      <th>reviews_per_month</th>\n",
       "      <th>calculated_host_listings_count</th>\n",
       "      <th>availability_365</th>\n",
       "    </tr>\n",
       "  </thead>\n",
       "  <tbody>\n",
       "    <tr>\n",
       "      <th>0</th>\n",
       "      <td>2539</td>\n",
       "      <td>Clean &amp; quiet apt home by the park</td>\n",
       "      <td>2787</td>\n",
       "      <td>John</td>\n",
       "      <td>Brooklyn</td>\n",
       "      <td>Kensington</td>\n",
       "      <td>40.64749</td>\n",
       "      <td>-73.97237</td>\n",
       "      <td>Private room</td>\n",
       "      <td>149</td>\n",
       "      <td>1</td>\n",
       "      <td>9</td>\n",
       "      <td>2018-10-19</td>\n",
       "      <td>0.21</td>\n",
       "      <td>6</td>\n",
       "      <td>365</td>\n",
       "    </tr>\n",
       "    <tr>\n",
       "      <th>1</th>\n",
       "      <td>2595</td>\n",
       "      <td>Skylit Midtown Castle</td>\n",
       "      <td>2845</td>\n",
       "      <td>Jennifer</td>\n",
       "      <td>Manhattan</td>\n",
       "      <td>Midtown</td>\n",
       "      <td>40.75362</td>\n",
       "      <td>-73.98377</td>\n",
       "      <td>Entire home/apt</td>\n",
       "      <td>225</td>\n",
       "      <td>1</td>\n",
       "      <td>45</td>\n",
       "      <td>2019-05-21</td>\n",
       "      <td>0.38</td>\n",
       "      <td>2</td>\n",
       "      <td>355</td>\n",
       "    </tr>\n",
       "    <tr>\n",
       "      <th>2</th>\n",
       "      <td>3647</td>\n",
       "      <td>THE VILLAGE OF HARLEM....NEW YORK !</td>\n",
       "      <td>4632</td>\n",
       "      <td>Elisabeth</td>\n",
       "      <td>Manhattan</td>\n",
       "      <td>Harlem</td>\n",
       "      <td>40.80902</td>\n",
       "      <td>-73.94190</td>\n",
       "      <td>Private room</td>\n",
       "      <td>150</td>\n",
       "      <td>3</td>\n",
       "      <td>0</td>\n",
       "      <td>NaN</td>\n",
       "      <td>NaN</td>\n",
       "      <td>1</td>\n",
       "      <td>365</td>\n",
       "    </tr>\n",
       "    <tr>\n",
       "      <th>3</th>\n",
       "      <td>3831</td>\n",
       "      <td>Cozy Entire Floor of Brownstone</td>\n",
       "      <td>4869</td>\n",
       "      <td>LisaRoxanne</td>\n",
       "      <td>Brooklyn</td>\n",
       "      <td>Clinton Hill</td>\n",
       "      <td>40.68514</td>\n",
       "      <td>-73.95976</td>\n",
       "      <td>Entire home/apt</td>\n",
       "      <td>89</td>\n",
       "      <td>1</td>\n",
       "      <td>270</td>\n",
       "      <td>2019-07-05</td>\n",
       "      <td>4.64</td>\n",
       "      <td>1</td>\n",
       "      <td>194</td>\n",
       "    </tr>\n",
       "    <tr>\n",
       "      <th>4</th>\n",
       "      <td>5022</td>\n",
       "      <td>Entire Apt: Spacious Studio/Loft by central park</td>\n",
       "      <td>7192</td>\n",
       "      <td>Laura</td>\n",
       "      <td>Manhattan</td>\n",
       "      <td>East Harlem</td>\n",
       "      <td>40.79851</td>\n",
       "      <td>-73.94399</td>\n",
       "      <td>Entire home/apt</td>\n",
       "      <td>80</td>\n",
       "      <td>10</td>\n",
       "      <td>9</td>\n",
       "      <td>2018-11-19</td>\n",
       "      <td>0.10</td>\n",
       "      <td>1</td>\n",
       "      <td>0</td>\n",
       "    </tr>\n",
       "  </tbody>\n",
       "</table>\n",
       "</div>"
      ],
      "text/plain": [
       "     id                                              name  host_id  \\\n",
       "0  2539                Clean & quiet apt home by the park     2787   \n",
       "1  2595                             Skylit Midtown Castle     2845   \n",
       "2  3647               THE VILLAGE OF HARLEM....NEW YORK !     4632   \n",
       "3  3831                   Cozy Entire Floor of Brownstone     4869   \n",
       "4  5022  Entire Apt: Spacious Studio/Loft by central park     7192   \n",
       "\n",
       "     host_name neighbourhood_group neighbourhood  latitude  longitude  \\\n",
       "0         John            Brooklyn    Kensington  40.64749  -73.97237   \n",
       "1     Jennifer           Manhattan       Midtown  40.75362  -73.98377   \n",
       "2    Elisabeth           Manhattan        Harlem  40.80902  -73.94190   \n",
       "3  LisaRoxanne            Brooklyn  Clinton Hill  40.68514  -73.95976   \n",
       "4        Laura           Manhattan   East Harlem  40.79851  -73.94399   \n",
       "\n",
       "         room_type  price  minimum_nights  number_of_reviews last_review  \\\n",
       "0     Private room    149               1                  9  2018-10-19   \n",
       "1  Entire home/apt    225               1                 45  2019-05-21   \n",
       "2     Private room    150               3                  0         NaN   \n",
       "3  Entire home/apt     89               1                270  2019-07-05   \n",
       "4  Entire home/apt     80              10                  9  2018-11-19   \n",
       "\n",
       "   reviews_per_month  calculated_host_listings_count  availability_365  \n",
       "0               0.21                               6               365  \n",
       "1               0.38                               2               355  \n",
       "2                NaN                               1               365  \n",
       "3               4.64                               1               194  \n",
       "4               0.10                               1                 0  "
      ]
     },
     "execution_count": 4,
     "metadata": {},
     "output_type": "execute_result"
    }
   ],
   "source": [
    "df.head()"
   ]
  },
  {
   "cell_type": "code",
   "execution_count": 5,
   "id": "48b78250-7ab6-45d1-82f0-33210e6e7e94",
   "metadata": {},
   "outputs": [
    {
     "data": {
      "image/png": "[encoded data removed]",
      "text/plain": [
       "<Figure size 432x288 with 1 Axes>"
      ]
     },
     "metadata": {
      "needs_background": "light"
     },
     "output_type": "display_data"
    }
   ],
   "source": [
    "## Target variable analysis\n",
    "sns.histplot(df.price, bins=40);"
   ]
  },
  {
   "cell_type": "code",
   "execution_count": 6,
   "id": "96710926-69b7-44a4-86d4-12f170839e96",
   "metadata": {},
   "outputs": [
    {
     "data": {
      "image/png": "[encoded data removed]",
      "text/plain": [
       "<Figure size 432x288 with 1 Axes>"
      ]
     },
     "metadata": {
      "needs_background": "light"
     },
     "output_type": "display_data"
    }
   ],
   "source": [
    "## Zooming into the bulk of the distribution\n",
    "sns.histplot(df.price[df.price < 4000]);"
   ]
  },
  {
   "cell_type": "code",
   "execution_count": 7,
   "id": "2ff21df6-0185-4f02-a596-e9c3fa5641ff",
   "metadata": {},
   "outputs": [
    {
     "data": {
      "image/png": "[encoded data removed]",
      "text/plain": [
       "<Figure size 432x288 with 1 Axes>"
      ]
     },
     "metadata": {
      "needs_background": "light"
     },
     "output_type": "display_data"
    }
   ],
   "source": [
    "## The range the vast majority of the prices fall into\n",
    "sns.histplot(df.price[df.price < 1000]);"
   ]
  },
  {
   "cell_type": "code",
   "execution_count": 8,
   "id": "55f7c783-dfcd-4445-af62-ce15ad86be4c",
   "metadata": {},
   "outputs": [
    {
     "data": {
      "image/png": "[encoded data removed]",
      "text/plain": [
       "<Figure size 432x288 with 1 Axes>"
      ]
     },
     "metadata": {
      "needs_background": "light"
     },
     "output_type": "display_data"
    }
   ],
   "source": [
    "## Evaluating the long tail\n",
    "sns.histplot(df.price[df.price >= 4000]);"
   ]
  },
  {
   "cell_type": "code",
   "execution_count": 9,
   "id": "93270fd5-80eb-46b7-aa2b-cb126f38fa03",
   "metadata": {},
   "outputs": [
    {
     "data": {
      "image/png": "[encoded data removed]",
      "text/plain": [
       "<Figure size 432x288 with 1 Axes>"
      ]
     },
     "metadata": {
      "needs_background": "light"
     },
     "output_type": "display_data"
    }
   ],
   "source": [
    "## Log transform to get an approximately normally distributed target\n",
    "log_price_1p = np.log1p(df.price)\n",
    "sns.histplot(log_price_1p);"
   ]
  },
  {
   "cell_type": "code",
   "execution_count": 10,
   "id": "de6c773a-5370-4d11-b8e9-1bcdaba2bacd",
   "metadata": {},
   "outputs": [
    {
     "data": {
      "text/plain": [
       "id                                    0\n",
       "name                                 16\n",
       "host_id                               0\n",
       "host_name                            21\n",
       "neighbourhood_group                   0\n",
       "neighbourhood                         0\n",
       "latitude                              0\n",
       "longitude                             0\n",
       "room_type                             0\n",
       "price                                 0\n",
       "minimum_nights                        0\n",
       "number_of_reviews                     0\n",
       "last_review                       10052\n",
       "reviews_per_month                 10052\n",
       "calculated_host_listings_count        0\n",
       "availability_365                      0\n",
       "dtype: int64"
      ]
     },
     "execution_count": 10,
     "metadata": {},
     "output_type": "execute_result"
    }
   ],
   "source": [
    "## Checking for missing values\n",
    "df.isnull().sum()"
   ]
  },
  {
   "cell_type": "markdown",
   "id": "8e9e955c-67a7-46c7-a7c3-fbb0e01a98dd",
   "metadata": {},
   "source": [
    "### Splitting the data and preparing target prices"
   ]
  },
  {
   "cell_type": "code",
   "execution_count": 11,
   "id": "41023479-50a0-43be-ae87-d30ef6dc544b",
   "metadata": {},
   "outputs": [],
   "source": [
    "## Splitting Data into validation, test, and training sets\n",
    "n = len(df)\n",
    "\n",
    "n_val = int(0.2 * n)\n",
    "n_test = int(0.2 * n)\n",
    "n_train = n - (n_val + n_test)\n",
    "\n",
    "np.random.seed(42)\n",
    "idx = np.arange(n)\n",
    "np.random.shuffle(idx)\n",
    "\n",
    "df_shuffled = df.iloc[idx]\n",
    "\n",
    "df_train = df_shuffled.iloc[:n_train].copy()\n",
    "df_val = df_shuffled.iloc[n_train:n_train+n_val].copy()\n",
    "df_test = df_shuffled.iloc[n_train+n_val:].copy()"
   ]
  },
  {
   "cell_type": "code",
   "execution_count": 12,
   "id": "7fee0925-59ba-4b44-b9bc-23d192eed793",
   "metadata": {},
   "outputs": [],
   "source": [
    "## Applying log transformation to target prices\n",
    "y_train = np.log1p(df_train.price.values)\n",
    "y_val = np.log1p(df_val.price.values)\n",
    "y_test = np.log1p(df_test.price.values)"
   ]
  },
  {
   "cell_type": "code",
   "execution_count": 13,
   "id": "ee69d0fe-1d81-402a-84b2-65955d5db2e9",
   "metadata": {},
   "outputs": [],
   "source": [
    "## Deleting target prices from training dataframe\n",
    "del df_train['price']\n",
    "del df_val['price']\n",
    "del df_test['price']"
   ]
  },
  {
   "cell_type": "code",
   "execution_count": 14,
   "id": "2c0b1085-bdf7-42d7-8ebd-6ab731e855a0",
   "metadata": {},
   "outputs": [
    {
     "data": {
      "text/plain": [
       "id                                              34112635\n",
       "name                              CRASH PAD near LGA JFK\n",
       "host_id                                         21216008\n",
       "host_name                                           Jose\n",
       "neighbourhood_group                               Queens\n",
       "neighbourhood                            Jackson Heights\n",
       "latitude                                        40.75078\n",
       "longitude                                      -73.87949\n",
       "room_type                                    Shared room\n",
       "minimum_nights                                         1\n",
       "number_of_reviews                                      4\n",
       "last_review                                   2019-06-08\n",
       "reviews_per_month                                   2.11\n",
       "calculated_host_listings_count                         4\n",
       "availability_365                                     354\n",
       "Name: 44211, dtype: object"
      ]
     },
     "execution_count": 14,
     "metadata": {},
     "output_type": "execute_result"
    }
   ],
   "source": [
    "## Looking at an example\n",
    "df_train.iloc[10]"
   ]
  },
  {
   "cell_type": "markdown",
   "id": "abc83090-2058-4500-b042-1b7fc1cb88aa",
   "metadata": {},
   "source": [
    "### Building the Linear Regression Model"
   ]
  },
  {
   "cell_type": "code",
   "execution_count": 15,
   "id": "10f94067-bb15-4428-9fa1-0e159a1a6e9f",
   "metadata": {},
   "outputs": [],
   "source": [
    "## implementing OLS linear regression with numpy\n",
    "def train_linear_regression(X, y):\n",
    "    # adding the dummy column\n",
    "    ones = np.ones(X.shape[0])\n",
    "    X = np.column_stack([ones, X])\n",
    "    \n",
    "    # OLS optimization formula\n",
    "    XTX = X.T @ X\n",
    "    XTX_inv = np.linalg.inv(XTX)\n",
    "    w = XTX_inv @ X.T @ y\n",
    "    \n",
    "    return w[0], w[1:]"
   ]
  },
  {
   "cell_type": "code",
   "execution_count": 16,
   "id": "312ede01-5f74-4627-999c-a68cbfbf5917",
   "metadata": {},
   "outputs": [],
   "source": [
    "## Predicting the price with a baseline model\n",
    "base = ['minimum_nights', 'number_of_reviews', 'reviews_per_month',\n",
    "       'calculated_host_listings_count', 'availability_365']  ## basic numerical feature columns\n",
    "df_num = df_train[base]"
   ]
  },
  {
   "cell_type": "code",
   "execution_count": 17,
   "id": "6d281403-7eb4-470d-9a1f-30109ca82f29",
   "metadata": {},
   "outputs": [],
   "source": [
    "## Filling the missing values with 0. This makes sense, as the numeric\n",
    "## column with missing data (reviews_per_month) come from those \n",
    "## listings with no reviews\n",
    "df_num = df_num.fillna(0)"
   ]
  },
  {
   "cell_type": "code",
   "execution_count": 18,
   "id": "ab473abb-08be-43fe-8267-181ca0777c2c",
   "metadata": {},
   "outputs": [],
   "source": [
    "## Training the OLS linear regression\n",
    "X_train = df_num.values\n",
    "\n",
    "w_0, w = train_linear_regression(X_train, y_train)"
   ]
  },
  {
   "cell_type": "markdown",
   "id": "9540762c-a009-44f7-9e11-81aa49ecc7d0",
   "metadata": {},
   "source": [
    "### Error Analysis"
   ]
  },
  {
   "cell_type": "code",
   "execution_count": 19,
   "id": "a098f311-e0e0-414c-81ab-f1e141449f51",
   "metadata": {},
   "outputs": [],
   "source": [
    "## Getting predictions on the training set\n",
    "y_pred = w_0 + X_train @ w"
   ]
  },
  {
   "cell_type": "code",
   "execution_count": 20,
   "id": "c1045f89-3ddf-4f4b-acd7-311bbbea0ce1",
   "metadata": {},
   "outputs": [
    {
     "data": {
      "image/png": "[encoded data removed]",
      "text/plain": [
       "<Figure size 432x288 with 1 Axes>"
      ]
     },
     "metadata": {
      "needs_background": "light"
     },
     "output_type": "display_data"
    }
   ],
   "source": [
    "## Comparing the predictions and actual distribution\n",
    "sns.histplot(y_pred, label='prediction', alpha=0.8, color='b')\n",
    "sns.histplot(y_val, label='target', alpha=0.6, color='r')\n",
    "plt.legend();"
   ]
  },
  {
   "cell_type": "code",
   "execution_count": 21,
   "id": "ca1df1f4-b781-4bd0-b55d-4e472ba36eaa",
   "metadata": {},
   "outputs": [
    {
     "data": {
      "image/png": "[encoded data removed]",
      "text/plain": [
       "<Figure size 432x288 with 1 Axes>"
      ]
     },
     "metadata": {
      "needs_background": "light"
     },
     "output_type": "display_data"
    }
   ],
   "source": [
    "sns.histplot(y_pred);"
   ]
  },
  {
   "cell_type": "code",
   "execution_count": 22,
   "id": "60fb3a65-5cd8-4f34-9608-e6ec6c3ecaab",
   "metadata": {},
   "outputs": [],
   "source": [
    "## Numpy implementation of root mean squared error\n",
    "def rmse(y, y_pred):\n",
    "    error = y_pred - y\n",
    "    mse = (error ** 2).mean()\n",
    "    return np.sqrt(mse)"
   ]
  },
  {
   "cell_type": "code",
   "execution_count": 23,
   "id": "530a24c5-0c7b-4af4-a366-089c2d288343",
   "metadata": {},
   "outputs": [],
   "source": [
    "## The prepare_X function for converting a Dataframe into a matrix\n",
    "def prepare_X(df):\n",
    "    df_num = df[base]\n",
    "    df_num = df_num.fillna(0)\n",
    "    X = df_num.values\n",
    "    return X"
   ]
  },
  {
   "cell_type": "code",
   "execution_count": 24,
   "id": "8b55fc97-0fbc-4ac6-b2c1-4a0f613b3842",
   "metadata": {},
   "outputs": [
    {
     "name": "stdout",
     "output_type": "stream",
     "text": [
      "Baseline Validation RMSE:  0.684838957356789\n"
     ]
    }
   ],
   "source": [
    "X_val = prepare_X(df_val)\n",
    "y_pred = w_0 + X_val @ w\n",
    "print('Baseline Validation RMSE: ', rmse(y_val, y_pred))"
   ]
  },
  {
   "cell_type": "markdown",
   "id": "6d092385-ca69-45bb-9338-0caca614985d",
   "metadata": {},
   "source": [
    "### Adding Categorical Features and Regularization"
   ]
  },
  {
   "cell_type": "code",
   "execution_count": 25,
   "id": "ba936c02-7062-4ff6-b092-bf55618166fa",
   "metadata": {},
   "outputs": [
    {
     "data": {
      "text/plain": [
       "Manhattan        12991\n",
       "Brooklyn         12015\n",
       "Queens            3466\n",
       "Bronx              651\n",
       "Staten Island      214\n",
       "Name: neighbourhood_group, dtype: int64"
      ]
     },
     "execution_count": 25,
     "metadata": {},
     "output_type": "execute_result"
    }
   ],
   "source": [
    "df_train.neighbourhood_group.value_counts()"
   ]
  },
  {
   "cell_type": "code",
   "execution_count": 26,
   "id": "54bf3ed8-fa73-455f-9086-4c85716013c5",
   "metadata": {},
   "outputs": [],
   "source": [
    "## Creating a new prepare_X to add dummy variables for borough\n",
    "def prepare_X(df):\n",
    "    base = ['minimum_nights', 'number_of_reviews', 'reviews_per_month',\n",
    "       'calculated_host_listings_count', 'availability_365']\n",
    "    features = base.copy()\n",
    "    \n",
    "    df_num = df[base]\n",
    "    df_num = df_num.fillna(0)\n",
    "    \n",
    "    for borough in ['Manhattan', 'Brooklyn', 'Queens', 'Bronx',\n",
    "                   'Staten Island']:\n",
    "        feature = 'is_borough_%s' % borough\n",
    "        df_num[feature] = (df['neighbourhood_group'] == borough).astype(int)\n",
    "        features.append(feature)\n",
    "    \n",
    "    X = df_num.values\n",
    "    return X"
   ]
  },
  {
   "cell_type": "code",
   "execution_count": 27,
   "id": "39dc603f-2d37-4802-a07d-c94e1e76fb33",
   "metadata": {},
   "outputs": [
    {
     "name": "stdout",
     "output_type": "stream",
     "text": [
      "Validation RMSE after adding categorical dummies: 101.38684435038431\n"
     ]
    }
   ],
   "source": [
    "X_train = prepare_X(df_train)\n",
    "w_0, w = train_linear_regression(X_train, y_train)\n",
    "\n",
    "X_val = prepare_X(df_val)\n",
    "y_pred = w_0 + X_val @ w\n",
    "print('Validation RMSE after adding categorical dummies:', rmse(y_val, y_pred))"
   ]
  },
  {
   "cell_type": "code",
   "execution_count": 28,
   "id": "99ce366f-3fc4-44d5-9ec3-416d0e521609",
   "metadata": {},
   "outputs": [],
   "source": [
    "## OLS Linear Regression with regularization\n",
    "def train_linear_regression_reg(X, y, r=0.0):\n",
    "    ones = np.ones(X.shape[0])\n",
    "    X = np.column_stack([ones, X])\n",
    "    \n",
    "    XTX = X.T @ X\n",
    "    reg = r * np.eye(XTX.shape[0])\n",
    "    XTX = XTX + reg\n",
    "    \n",
    "    XTX_inv = np.linalg.inv(XTX)\n",
    "    w = XTX_inv @ X.T @ y\n",
    "    return w[0], w[1:]"
   ]
  },
  {
   "cell_type": "code",
   "execution_count": 29,
   "id": "66beaca8-80ed-43fa-a207-7f41e730265f",
   "metadata": {},
   "outputs": [
    {
     "name": "stdout",
     "output_type": "stream",
     "text": [
      "r = 0\n",
      "Bias: 121.76088868149218\n",
      "Weights: [-1.86888600e-01  4.03890878e-03  1.28350568e+00 -7.67616629e-02\n",
      "  9.21143204e-03  6.37788028e+00 -3.69701417e+01 -4.23158552e+01\n",
      " -4.55919537e+01 -4.61110577e+01]\n",
      "\n",
      "\n",
      "r = 0.001\n",
      "Bias: 3.7126976628381927\n",
      "Weights: [-5.81696944e-04 -2.82394241e-04 -1.72407077e-02  1.16588150e-03\n",
      "  5.99567142e-04  1.23673601e+00  8.28077749e-01  6.19433045e-01\n",
      "  4.61187028e-01  5.67263829e-01]\n",
      "\n",
      "\n",
      "r = 0.01\n",
      "Bias: 3.7126905827569416\n",
      "Weights: [-5.81683306e-04 -2.82393996e-04 -1.72402185e-02  1.16588074e-03\n",
      "  5.99574934e-04  1.23674078e+00  8.28082834e-01  6.19436545e-01\n",
      "  4.61185665e-01  5.67244752e-01]\n",
      "\n",
      "\n",
      "r = 0.1\n",
      "Bias: 3.7126197335489852\n",
      "Weights: [-5.81546884e-04 -2.82391527e-04 -1.72353282e-02  1.16587316e-03\n",
      "  5.99652837e-04  1.23678850e+00  8.28133670e-01  6.19471542e-01\n",
      "  4.61171997e-01  5.67054027e-01]\n",
      "\n",
      "\n",
      "r = 1\n",
      "Bias: 3.7119127876271554\n",
      "Weights: [-5.80182372e-04 -2.82366499e-04 -1.71864426e-02  1.16579798e-03\n",
      "  6.00431365e-04  1.23726410e+00  8.28640506e-01  6.19819966e-01\n",
      "  4.61034084e-01  5.65154131e-01]\n",
      "\n",
      "\n",
      "r = 10\n",
      "Bias: 3.7049920965084513\n",
      "Weights: [-5.66508525e-04 -2.82083788e-04 -1.66993604e-02  1.16510144e-03\n",
      "  6.08167080e-04  1.24187350e+00  8.33561788e-01  6.23154563e-01\n",
      "  4.59538704e-01  5.46863544e-01]\n",
      "\n",
      "\n"
     ]
    }
   ],
   "source": [
    "## Testing different regularization values on the weight values\n",
    "for r in [0, 0.001, 0.01, 0.1, 1, 10]:\n",
    "    w_0, w = train_linear_regression_reg(X_train, y_train, r=r)\n",
    "    print(f'r = {r}')\n",
    "    print(f\"Bias: {w_0}\")\n",
    "    print(f\"Weights: {w}\")\n",
    "    print('\\n')"
   ]
  },
  {
   "cell_type": "code",
   "execution_count": 30,
   "id": "8e1588a0-563b-4a40-b3b8-0e91c0a43479",
   "metadata": {},
   "outputs": [
    {
     "name": "stdout",
     "output_type": "stream",
     "text": [
      "Validation RMSE after adding borough categorical dummies and adding regularization: 0.6395063414603269\n"
     ]
    }
   ],
   "source": [
    "X_train = prepare_X(df_train)\n",
    "w_0, w = train_linear_regression_reg(X_train, y_train, r=0.001)\n",
    "\n",
    "X_val = prepare_X(df_val)\n",
    "y_pred = w_0 + X_val @ w\n",
    "print('Validation RMSE after adding borough categorical dummies and adding regularization:', rmse(y_val, y_pred))"
   ]
  },
  {
   "cell_type": "code",
   "execution_count": 31,
   "id": "305ac6e6-1161-40c2-b260-7fa44c25316c",
   "metadata": {},
   "outputs": [
    {
     "data": {
      "image/png": "[encoded data removed]",
      "text/plain": [
       "<Figure size 432x288 with 1 Axes>"
      ]
     },
     "metadata": {
      "needs_background": "light"
     },
     "output_type": "display_data"
    }
   ],
   "source": [
    "## Comparing the predictions and actual distribution\n",
    "sns.histplot(y_pred, label='prediction', alpha=0.8, color='b')\n",
    "sns.histplot(y_val, label='target', alpha=0.6, color='r')\n",
    "plt.legend();"
   ]
  },
  {
   "cell_type": "code",
   "execution_count": 32,
   "id": "68c807b4-5020-4591-b3ac-b038827a93f1",
   "metadata": {},
   "outputs": [
    {
     "data": {
      "image/png": "[encoded data removed]",
      "text/plain": [
       "<Figure size 432x288 with 1 Axes>"
      ]
     },
     "metadata": {
      "needs_background": "light"
     },
     "output_type": "display_data"
    }
   ],
   "source": [
    "## Comparing the predictions and actual distribution for true price\n",
    "sns.histplot(np.exp(y_pred)-1, label='prediction', alpha=0.8, color='b')\n",
    "sns.histplot(np.exp(y_val)-1, label='target', alpha=0.6, color='r')\n",
    "plt.legend();"
   ]
  },
  {
   "cell_type": "code",
   "execution_count": 33,
   "id": "b752b495-e6e1-4a84-a836-914bd54d0ac2",
   "metadata": {},
   "outputs": [
    {
     "name": "stdout",
     "output_type": "stream",
     "text": [
      "Validation USD RMSE after adding borough categorical dummies and adding regularization: 241.22320832979665\n"
     ]
    }
   ],
   "source": [
    "print('Validation USD RMSE after adding borough categorical dummies and adding regularization:', rmse(np.exp(y_val)-1, np.exp(y_pred)-1))"
   ]
  },
  {
   "cell_type": "code",
   "execution_count": 34,
   "id": "81b4a80f-9ef2-465c-a782-d54428ea115b",
   "metadata": {},
   "outputs": [],
   "source": [
    "## Creating a new prepare_X to add dummy variables for neighborhood\n",
    "def prepare_X(df):\n",
    "    base = ['minimum_nights', 'number_of_reviews', 'reviews_per_month',\n",
    "       'calculated_host_listings_count', 'availability_365']\n",
    "    features = base.copy()\n",
    "    \n",
    "    df_num = df[base]\n",
    "    df_num = df_num.fillna(0)\n",
    "    \n",
    "    for borough in ['Manhattan', 'Brooklyn', 'Queens', 'Bronx',\n",
    "                   'Staten Island']:\n",
    "        feature = 'is_borough_%s' % borough\n",
    "        df_num[feature] = (df['neighbourhood_group'] == borough).astype(int)\n",
    "        features.append(feature)\n",
    "        \n",
    "    for neighborhood in df_train['neighbourhood'].unique():\n",
    "        feature = 'is_neighborhood_%s' % borough\n",
    "        df_num[feature] = (df['neighbourhood'] == neighborhood).astype(int)\n",
    "        features.append(feature)\n",
    "    \n",
    "    X = df_num.values\n",
    "    return X"
   ]
  },
  {
   "cell_type": "code",
   "execution_count": 35,
   "id": "55464332-c471-48fd-bd90-318c0ceb477e",
   "metadata": {},
   "outputs": [
    {
     "name": "stdout",
     "output_type": "stream",
     "text": [
      "Validation RMSE after also adding neighborhood categorical dummies and some regularization: 0.6395293528406962\n"
     ]
    }
   ],
   "source": [
    "X_train = prepare_X(df_train)\n",
    "w_0, w = train_linear_regression_reg(X_train, y_train, r=0.001)\n",
    "\n",
    "X_val = prepare_X(df_val)\n",
    "y_pred = w_0 + X_val @ w\n",
    "print('Validation RMSE after also adding neighborhood categorical dummies and some regularization:', rmse(y_val, y_pred))"
   ]
  },
  {
   "cell_type": "code",
   "execution_count": 36,
   "id": "b984e1f6-64ee-4183-a843-9945d58d7e1e",
   "metadata": {},
   "outputs": [
    {
     "data": {
      "image/png": "[encoded data removed]",
      "text/plain": [
       "<Figure size 432x288 with 1 Axes>"
      ]
     },
     "metadata": {
      "needs_background": "light"
     },
     "output_type": "display_data"
    }
   ],
   "source": [
    "sns.histplot(y_pred, label='prediction', alpha=0.8, color='b')\n",
    "sns.histplot(y_val, label='target', alpha=0.6, color='r')\n",
    "plt.legend();"
   ]
  },
  {
   "cell_type": "code",
   "execution_count": 37,
   "id": "3904e066-f261-402e-a183-1dffdd019478",
   "metadata": {},
   "outputs": [],
   "source": [
    "## Creating a new prepare_X to add dummy variables for room type\n",
    "def prepare_X(df):\n",
    "    base = ['minimum_nights', 'number_of_reviews', 'reviews_per_month',\n",
    "       'calculated_host_listings_count', 'availability_365']\n",
    "    features = base.copy()\n",
    "    \n",
    "    df_num = df[base]\n",
    "    df_num = df_num.fillna(0)\n",
    "    \n",
    "    for borough in ['Manhattan', 'Brooklyn', 'Queens', 'Bronx',\n",
    "                   'Staten Island']:\n",
    "        feature = 'is_borough_%s' % borough\n",
    "        df_num[feature] = (df['neighbourhood_group'] == borough).astype(int)\n",
    "        features.append(feature)\n",
    "        \n",
    "    for neighborhood in df_train['neighbourhood'].unique():\n",
    "        feature = 'is_neighborhood_%s' % neighborhood\n",
    "        df_num[feature] = (df['neighbourhood'] == neighborhood).astype(int)\n",
    "        features.append(feature)\n",
    "        \n",
    "    for room_type in df_train['room_type'].unique():\n",
    "        feature = 'is_room_type_%s' % room_type\n",
    "        df_num[feature] = (df['room_type'] == room_type).astype(int)\n",
    "        features.append(feature)    \n",
    "    \n",
    "    X = df_num.values\n",
    "    return X"
   ]
  },
  {
   "cell_type": "code",
   "execution_count": 38,
   "id": "439a4933-5503-4e12-b07a-46280b64a3ec",
   "metadata": {},
   "outputs": [
    {
     "name": "stderr",
     "output_type": "stream",
     "text": [
      "/var/folders/jm/8xl351xd0cd8jdk89j_x_g180000gn/T/ipykernel_50489/2364852936.py:18: PerformanceWarning: DataFrame is highly fragmented.  This is usually the result of calling `frame.insert` many times, which has poor performance.  Consider joining all columns at once using pd.concat(axis=1) instead.  To get a de-fragmented frame, use `newframe = frame.copy()`\n",
      "  df_num[feature] = (df['neighbourhood'] == neighborhood).astype(int)\n",
      "/var/folders/jm/8xl351xd0cd8jdk89j_x_g180000gn/T/ipykernel_50489/2364852936.py:23: PerformanceWarning: DataFrame is highly fragmented.  This is usually the result of calling `frame.insert` many times, which has poor performance.  Consider joining all columns at once using pd.concat(axis=1) instead.  To get a de-fragmented frame, use `newframe = frame.copy()`\n",
      "  df_num[feature] = (df['room_type'] == room_type).astype(int)\n"
     ]
    },
    {
     "name": "stdout",
     "output_type": "stream",
     "text": [
      "Validation RMSE after also adding room type categorical dummies and some regularization: 0.4721684720057483\n"
     ]
    }
   ],
   "source": [
    "X_train = prepare_X(df_train)\n",
    "w_0, w = train_linear_regression_reg(X_train, y_train, r=0.001)\n",
    "\n",
    "X_val = prepare_X(df_val)\n",
    "y_pred = w_0 + X_val @ w\n",
    "print('Validation RMSE after also adding room type categorical dummies and some regularization:', rmse(y_val, y_pred))"
   ]
  },
  {
   "cell_type": "code",
   "execution_count": 39,
   "id": "ca75e462-3d15-4d53-bde2-cccaa00bb9f8",
   "metadata": {},
   "outputs": [
    {
     "data": {
      "image/png": "[encoded data removed]",
      "text/plain": [
       "<Figure size 432x288 with 1 Axes>"
      ]
     },
     "metadata": {
      "needs_background": "light"
     },
     "output_type": "display_data"
    }
   ],
   "source": [
    "sns.histplot(y_pred, label='prediction', alpha=0.8, color='b')\n",
    "sns.histplot(y_val, label='target', alpha=0.6, color='r')\n",
    "plt.legend();"
   ]
  },
  {
   "cell_type": "markdown",
   "id": "ca3515c9-66e5-4b00-a1a9-7fc614f4e271",
   "metadata": {},
   "source": [
    "### Regularization Hyperparameter Selection"
   ]
  },
  {
   "cell_type": "code",
   "execution_count": 40,
   "id": "9d23c539-a83e-40d1-ac91-e3346d937ed8",
   "metadata": {},
   "outputs": [
    {
     "name": "stderr",
     "output_type": "stream",
     "text": [
      "/var/folders/jm/8xl351xd0cd8jdk89j_x_g180000gn/T/ipykernel_50489/2364852936.py:18: PerformanceWarning: DataFrame is highly fragmented.  This is usually the result of calling `frame.insert` many times, which has poor performance.  Consider joining all columns at once using pd.concat(axis=1) instead.  To get a de-fragmented frame, use `newframe = frame.copy()`\n",
      "  df_num[feature] = (df['neighbourhood'] == neighborhood).astype(int)\n",
      "/var/folders/jm/8xl351xd0cd8jdk89j_x_g180000gn/T/ipykernel_50489/2364852936.py:23: PerformanceWarning: DataFrame is highly fragmented.  This is usually the result of calling `frame.insert` many times, which has poor performance.  Consider joining all columns at once using pd.concat(axis=1) instead.  To get a de-fragmented frame, use `newframe = frame.copy()`\n",
      "  df_num[feature] = (df['room_type'] == room_type).astype(int)\n"
     ]
    },
    {
     "name": "stdout",
     "output_type": "stream",
     "text": [
      " 1e-06 21.8228741184905\n",
      "0.0001 0.47218699186598506\n",
      " 0.001 0.4721684720057483\n",
      "  0.01 0.47214228452442986\n",
      "   0.1 0.4719096795942213\n",
      "     1 0.47086974669572185\n",
      "     5 0.47011507060309315\n",
      "    10 0.4699914974612546\n",
      "   100 0.4726497287947778\n"
     ]
    }
   ],
   "source": [
    "## Trying out different values of reg_param to optimize validation RMSE\n",
    "X_train = prepare_X(df_train)\n",
    "X_val = prepare_X(df_val)\n",
    "\n",
    "for r in [0.000001, 0.0001, 0.001, 0.01, 0.1, 1, 5, 10, 100]:\n",
    "    w_0, w = train_linear_regression_reg(X_train, y_train, r=r)\n",
    "    y_pred = w_0 + X_val @ w\n",
    "    print('%6s' % r, rmse(y_val, y_pred))"
   ]
  },
  {
   "cell_type": "markdown",
   "id": "236aa462-1727-4242-bfbe-9a51b203b22a",
   "metadata": {},
   "source": [
    "### Final Model Construction and Inference"
   ]
  },
  {
   "cell_type": "code",
   "execution_count": 41,
   "id": "33926450-b040-4a7b-9049-8966f054ae85",
   "metadata": {},
   "outputs": [
    {
     "name": "stderr",
     "output_type": "stream",
     "text": [
      "/var/folders/jm/8xl351xd0cd8jdk89j_x_g180000gn/T/ipykernel_50489/2364852936.py:18: PerformanceWarning: DataFrame is highly fragmented.  This is usually the result of calling `frame.insert` many times, which has poor performance.  Consider joining all columns at once using pd.concat(axis=1) instead.  To get a de-fragmented frame, use `newframe = frame.copy()`\n",
      "  df_num[feature] = (df['neighbourhood'] == neighborhood).astype(int)\n",
      "/var/folders/jm/8xl351xd0cd8jdk89j_x_g180000gn/T/ipykernel_50489/2364852936.py:23: PerformanceWarning: DataFrame is highly fragmented.  This is usually the result of calling `frame.insert` many times, which has poor performance.  Consider joining all columns at once using pd.concat(axis=1) instead.  To get a de-fragmented frame, use `newframe = frame.copy()`\n",
      "  df_num[feature] = (df['room_type'] == room_type).astype(int)\n"
     ]
    },
    {
     "name": "stdout",
     "output_type": "stream",
     "text": [
      "validation:  0.4699914974612546\n",
      "test:  0.4903363239461685\n"
     ]
    }
   ],
   "source": [
    "## It seems the best-performing model comes from r=10, so let's use this\n",
    "## as our final model\n",
    "\n",
    "X_train = prepare_X(df_train)\n",
    "w_0, w = train_linear_regression_reg(X_train, y_train, r=10)\n",
    "\n",
    "X_val = prepare_X(df_val)\n",
    "y_pred = w_0 + X_val @ w\n",
    "print('validation: ', rmse(y_val, y_pred))\n",
    "\n",
    "X_test = prepare_X(df_test)\n",
    "y_pred = w_0 + X_test @ w\n",
    "print('test: ', rmse(y_test, y_pred))"
   ]
  },
  {
   "cell_type": "code",
   "execution_count": 42,
   "id": "bdfdde4b-ca6d-4bc0-883b-f969699529bb",
   "metadata": {},
   "outputs": [
    {
     "data": {
      "text/plain": [
       "{'id': 28560966,\n",
       " 'name': 'New York Apartment',\n",
       " 'host_id': 83343316,\n",
       " 'host_name': 'Jamie',\n",
       " 'neighbourhood_group': 'Manhattan',\n",
       " 'neighbourhood': 'Kips Bay',\n",
       " 'latitude': 40.73954,\n",
       " 'longitude': -73.98185,\n",
       " 'room_type': 'Private room',\n",
       " 'minimum_nights': 2,\n",
       " 'number_of_reviews': 2,\n",
       " 'last_review': '2018-11-25',\n",
       " 'reviews_per_month': 0.26,\n",
       " 'calculated_host_listings_count': 1,\n",
       " 'availability_365': 45}"
      ]
     },
     "execution_count": 42,
     "metadata": {},
     "output_type": "execute_result"
    }
   ],
   "source": [
    "example_index = 40\n",
    "example = df_test.iloc[example_index].to_dict()\n",
    "example"
   ]
  },
  {
   "cell_type": "code",
   "execution_count": 43,
   "id": "64c9295a-a459-47f9-b92d-f48d47bacca8",
   "metadata": {},
   "outputs": [
    {
     "name": "stdout",
     "output_type": "stream",
     "text": [
      "Predicted price: 94.09\n",
      "Actual price: 150.00\n"
     ]
    },
    {
     "name": "stderr",
     "output_type": "stream",
     "text": [
      "/var/folders/jm/8xl351xd0cd8jdk89j_x_g180000gn/T/ipykernel_50489/2364852936.py:18: PerformanceWarning: DataFrame is highly fragmented.  This is usually the result of calling `frame.insert` many times, which has poor performance.  Consider joining all columns at once using pd.concat(axis=1) instead.  To get a de-fragmented frame, use `newframe = frame.copy()`\n",
      "  df_num[feature] = (df['neighbourhood'] == neighborhood).astype(int)\n",
      "/var/folders/jm/8xl351xd0cd8jdk89j_x_g180000gn/T/ipykernel_50489/2364852936.py:23: PerformanceWarning: DataFrame is highly fragmented.  This is usually the result of calling `frame.insert` many times, which has poor performance.  Consider joining all columns at once using pd.concat(axis=1) instead.  To get a de-fragmented frame, use `newframe = frame.copy()`\n",
      "  df_num[feature] = (df['room_type'] == room_type).astype(int)\n"
     ]
    }
   ],
   "source": [
    "X_example = prepare_X(pd.DataFrame([example]))\n",
    "y_example_pred = w_0 + X_example @ w\n",
    "price_prediction = np.expm1(y_example_pred)\n",
    "print(f\"Predicted price: {price_prediction[0]:.2f}\")\n",
    "\n",
    "actual_price = np.expm1(y_test[example_index])\n",
    "print(f\"Actual price: {actual_price:.2f}\")"
   ]
  },
  {
   "cell_type": "markdown",
   "id": "359d9b6f-e595-4cb7-af0f-a756205d845a",
   "metadata": {},
   "source": [
    "### Extra: Exploring potential of adding embeddings of the listing name as features"
   ]
  },
  {
   "cell_type": "code",
   "execution_count": 44,
   "id": "e8a1a36e-ee91-48e5-8fbe-1e2ecb6dad7a",
   "metadata": {},
   "outputs": [
    {
     "name": "stdout",
     "output_type": "stream",
     "text": [
      "[-0.01046909  0.00674606 -0.05004983 -0.02677302 -0.03129811  0.00018769\n",
      "  0.01781637 -0.0354561  -0.00137843 -0.03198716]\n"
     ]
    }
   ],
   "source": [
    "from sentence_transformers import SentenceTransformer\n",
    "\n",
    "embedding_model = SentenceTransformer('sentence-transformers/all-MiniLM-L6-v2')\n",
    "example_embeddings = embedding_model.encode(df_train.iloc[:15]['name'].values)\n",
    "print(example_embeddings[0][:10])"
   ]
  },
  {
   "cell_type": "code",
   "execution_count": 45,
   "id": "e8eb1b54-5500-4162-bcc5-27331625186b",
   "metadata": {},
   "outputs": [
    {
     "data": {
      "text/plain": [
       "384"
      ]
     },
     "execution_count": 45,
     "metadata": {},
     "output_type": "execute_result"
    }
   ],
   "source": [
    "len(example_embeddings[0])"
   ]
  },
  {
   "cell_type": "code",
   "execution_count": 46,
   "id": "2fc45720-fc70-4be3-90c7-67d66e6f6d19",
   "metadata": {},
   "outputs": [],
   "source": [
    "## Adding embeddings of the listing names to the Prepare_X function\n",
    "def prepare_X(df):\n",
    "    base = ['minimum_nights', 'number_of_reviews', 'reviews_per_month',\n",
    "       'calculated_host_listings_count', 'availability_365']\n",
    "    features = base.copy()\n",
    "    \n",
    "    df_num = df[base]\n",
    "    df_num = df_num.fillna(0)\n",
    "    \n",
    "    for borough in ['Manhattan', 'Brooklyn', 'Queens', 'Bronx',\n",
    "                   'Staten Island']:\n",
    "        feature = 'is_borough_%s' % borough\n",
    "        df_num[feature] = (df['neighbourhood_group'] == borough).astype(int)\n",
    "        features.append(feature)\n",
    "        \n",
    "    for neighborhood in df_train['neighbourhood'].unique():\n",
    "        feature = 'is_neighborhood_%s' % neighborhood\n",
    "        df_num[feature] = (df['neighbourhood'] == neighborhood).astype(int)\n",
    "        features.append(feature)\n",
    "        \n",
    "    for room_type in df_train['room_type'].unique():\n",
    "        feature = 'is_room_type_%s' % room_type\n",
    "        df_num[feature] = (df['room_type'] == room_type).astype(int)\n",
    "        features.append(feature)    \n",
    "    \n",
    "    X = df_num.values\n",
    "    \n",
    "    name_embeddings = embedding_model.encode(df['name'].values)\n",
    "    X = np.column_stack(X, name_embeddings)\n",
    "    return X"
   ]
  },
  {
   "cell_type": "code",
   "execution_count": 47,
   "id": "5006c416-0f5a-48fe-9d0c-9bac8281de86",
   "metadata": {},
   "outputs": [
    {
     "name": "stderr",
     "output_type": "stream",
     "text": [
      "/var/folders/jm/8xl351xd0cd8jdk89j_x_g180000gn/T/ipykernel_50489/2643993935.py:18: PerformanceWarning: DataFrame is highly fragmented.  This is usually the result of calling `frame.insert` many times, which has poor performance.  Consider joining all columns at once using pd.concat(axis=1) instead.  To get a de-fragmented frame, use `newframe = frame.copy()`\n",
      "  df_num[feature] = (df['neighbourhood'] == neighborhood).astype(int)\n",
      "/var/folders/jm/8xl351xd0cd8jdk89j_x_g180000gn/T/ipykernel_50489/2643993935.py:23: PerformanceWarning: DataFrame is highly fragmented.  This is usually the result of calling `frame.insert` many times, which has poor performance.  Consider joining all columns at once using pd.concat(axis=1) instead.  To get a de-fragmented frame, use `newframe = frame.copy()`\n",
      "  df_num[feature] = (df['room_type'] == room_type).astype(int)\n"
     ]
    },
    {
     "ename": "TypeError",
     "evalue": "_column_stack_dispatcher() takes 1 positional argument but 2 were given",
     "output_type": "error",
     "traceback": [
      "\u001b[0;31m---------------------------------------------------------------------------\u001b[0m",
      "\u001b[0;31mTypeError\u001b[0m                                 Traceback (most recent call last)",
      "\u001b[0;32m/var/folders/jm/8xl351xd0cd8jdk89j_x_g180000gn/T/ipykernel_50489/28127128.py\u001b[0m in \u001b[0;36m<module>\u001b[0;34m\u001b[0m\n\u001b[0;32m----> 1\u001b[0;31m \u001b[0mX_train\u001b[0m \u001b[0;34m=\u001b[0m \u001b[0mprepare_X\u001b[0m\u001b[0;34m(\u001b[0m\u001b[0mdf_train\u001b[0m\u001b[0;34m)\u001b[0m\u001b[0;34m\u001b[0m\u001b[0;34m\u001b[0m\u001b[0m\n\u001b[0m\u001b[1;32m      2\u001b[0m \u001b[0mw_0\u001b[0m\u001b[0;34m,\u001b[0m \u001b[0mw\u001b[0m \u001b[0;34m=\u001b[0m \u001b[0mtrain_linear_regression_reg\u001b[0m\u001b[0;34m(\u001b[0m\u001b[0mX_train\u001b[0m\u001b[0;34m,\u001b[0m \u001b[0my_train\u001b[0m\u001b[0;34m,\u001b[0m \u001b[0mr\u001b[0m\u001b[0;34m=\u001b[0m\u001b[0;36m0.001\u001b[0m\u001b[0;34m)\u001b[0m\u001b[0;34m\u001b[0m\u001b[0;34m\u001b[0m\u001b[0m\n\u001b[1;32m      3\u001b[0m \u001b[0;34m\u001b[0m\u001b[0m\n\u001b[1;32m      4\u001b[0m \u001b[0mX_val\u001b[0m \u001b[0;34m=\u001b[0m \u001b[0mprepare_X\u001b[0m\u001b[0;34m(\u001b[0m\u001b[0mdf_val\u001b[0m\u001b[0;34m)\u001b[0m\u001b[0;34m\u001b[0m\u001b[0;34m\u001b[0m\u001b[0m\n\u001b[1;32m      5\u001b[0m \u001b[0my_pred\u001b[0m \u001b[0;34m=\u001b[0m \u001b[0mw_0\u001b[0m \u001b[0;34m+\u001b[0m \u001b[0mX_val\u001b[0m \u001b[0;34m@\u001b[0m \u001b[0mw\u001b[0m\u001b[0;34m\u001b[0m\u001b[0;34m\u001b[0m\u001b[0m\n",
      "\u001b[0;32m/var/folders/jm/8xl351xd0cd8jdk89j_x_g180000gn/T/ipykernel_50489/2643993935.py\u001b[0m in \u001b[0;36mprepare_X\u001b[0;34m(df)\u001b[0m\n\u001b[1;32m     27\u001b[0m \u001b[0;34m\u001b[0m\u001b[0m\n\u001b[1;32m     28\u001b[0m     \u001b[0mname_embeddings\u001b[0m \u001b[0;34m=\u001b[0m \u001b[0membedding_model\u001b[0m\u001b[0;34m.\u001b[0m\u001b[0mencode\u001b[0m\u001b[0;34m(\u001b[0m\u001b[0mdf\u001b[0m\u001b[0;34m[\u001b[0m\u001b[0;34m'name'\u001b[0m\u001b[0;34m]\u001b[0m\u001b[0;34m.\u001b[0m\u001b[0mvalues\u001b[0m\u001b[0;34m)\u001b[0m\u001b[0;34m\u001b[0m\u001b[0;34m\u001b[0m\u001b[0m\n\u001b[0;32m---> 29\u001b[0;31m     \u001b[0mX\u001b[0m \u001b[0;34m=\u001b[0m \u001b[0mnp\u001b[0m\u001b[0;34m.\u001b[0m\u001b[0mcolumn_stack\u001b[0m\u001b[0;34m(\u001b[0m\u001b[0mX\u001b[0m\u001b[0;34m,\u001b[0m \u001b[0mname_embeddings\u001b[0m\u001b[0;34m)\u001b[0m\u001b[0;34m\u001b[0m\u001b[0;34m\u001b[0m\u001b[0m\n\u001b[0m\u001b[1;32m     30\u001b[0m     \u001b[0;32mreturn\u001b[0m \u001b[0mX\u001b[0m\u001b[0;34m\u001b[0m\u001b[0;34m\u001b[0m\u001b[0m\n",
      "\u001b[0;32m<__array_function__ internals>\u001b[0m in \u001b[0;36mcolumn_stack\u001b[0;34m(*args, **kwargs)\u001b[0m\n",
      "\u001b[0;31mTypeError\u001b[0m: _column_stack_dispatcher() takes 1 positional argument but 2 were given"
     ]
    }
   ],
   "source": [
    "X_train = prepare_X(df_train)\n",
    "w_0, w = train_linear_regression_reg(X_train, y_train, r=0.001)\n",
    "\n",
    "X_val = prepare_X(df_val)\n",
    "y_pred = w_0 + X_val @ w\n",
    "print('Validation RMSE after adding name embeddings with some regularization:', rmse(y_val, y_pred))"
   ]
  },
  {
   "cell_type": "markdown",
   "id": "4f5f58f5-9f6a-4f7a-ac46-6c44757b336b",
   "metadata": {},
   "source": [
    "This increased validation performance, even without hyperparameter optimization, indicates that adding embeddings for the listing name as a feature is a promising approach to increasing performance further."
   ]
  }
 ],
 "metadata": {
  "kernelspec": {
   "display_name": "Python 3 (ipykernel)",
   "language": "python",
   "name": "python3"
  },
  "language_info": {
   "codemirror_mode": {
    "name": "ipython",
    "version": 3
   },
   "file_extension": ".py",
   "mimetype": "text/x-python",
   "name": "python",
   "nbconvert_exporter": "python",
   "pygments_lexer": "ipython3",
   "version": "3.8.8"
  }
 },
 "nbformat": 4,
 "nbformat_minor": 5
}
